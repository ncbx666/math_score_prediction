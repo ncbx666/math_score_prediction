{
  "nbformat": 4,
  "nbformat_minor": 0,
  "metadata": {
    "colab": {
      "provenance": [],
      "gpuType": "T4",
      "mount_file_id": "1Sl4i3uHOeDffyhcEvX4rVKUsV0iM2jJG",
      "authorship_tag": "ABX9TyN7FRQAdOHhicSNYVWaOLcI",
      "include_colab_link": true
    },
    "kernelspec": {
      "name": "python3",
      "display_name": "Python 3"
    },
    "language_info": {
      "name": "python"
    },
    "accelerator": "GPU"
  },
  "cells": [
    {
      "cell_type": "markdown",
      "metadata": {
        "id": "view-in-github",
        "colab_type": "text"
      },
      "source": [
        "<a href=\"https://colab.research.google.com/github/ncbx666/math_score_prediction/blob/main/cnn_lego_classifier.ipynb\" target=\"_parent\"><img src=\"https://colab.research.google.com/assets/colab-badge.svg\" alt=\"Open In Colab\"/></a>"
      ]
    },
    {
      "cell_type": "code",
      "execution_count": 1,
      "metadata": {
        "id": "BWGW9Y3gAA2Y"
      },
      "outputs": [],
      "source": [
        "import numpy as np\n",
        "import matplotlib.pyplot as plt\n",
        "\n",
        "import torch\n",
        "import torch.nn as nn\n",
        "import torch.optim as optim\n",
        "from torch.utils.data import DataLoader\n",
        "import torchvision.transforms as transforms\n",
        "\n",
        "import pickle"
      ]
    },
    {
      "cell_type": "code",
      "source": [
        "device = torch.device(\"cuda\" if torch.cuda.is_available() else \"cpu\")"
      ],
      "metadata": {
        "id": "-GrQm4o-C2dB"
      },
      "execution_count": 2,
      "outputs": []
    },
    {
      "cell_type": "code",
      "source": [
        "test_ = open(\"/content/sample_data/lego-test.pickle\", \"rb\")\n",
        "train_ = open(\"/content/sample_data/lego-train.pickle\", \"rb\")\n",
        "\n",
        "test_data = pickle.load(test_)\n",
        "train_data = pickle.load(train_)"
      ],
      "metadata": {
        "id": "2qKYTGqDD8Cw"
      },
      "execution_count": 3,
      "outputs": []
    },
    {
      "cell_type": "markdown",
      "source": [
        "Так как мы работаем с фреймворком torch, переводим все массивы в тензоры."
      ],
      "metadata": {
        "id": "PrAFQKhPLnsn"
      }
    },
    {
      "cell_type": "code",
      "source": [
        "transform = transforms.Compose([\n",
        "    transforms.ToTensor(),\n",
        "    transforms.Normalize(0.5, 0.5)\n",
        "])\n",
        "\n",
        "# Преобразуем изображения и метки в тензоры\n",
        "train_data_tensor = [(transform(img), label) for (img, label) in train_data]\n",
        "test_data_tensor = [(transform(img), label) for (img, label) in test_data]\n",
        "\n",
        "print(f\"image size is {train_data_tensor[0][0].shape}\")"
      ],
      "metadata": {
        "id": "rZhBAzCWSMce",
        "colab": {
          "base_uri": "https://localhost:8080/"
        },
        "outputId": "9bd21fc7-520a-48c4-ab6f-634c9d0cc611"
      },
      "execution_count": 4,
      "outputs": [
        {
          "output_type": "stream",
          "name": "stdout",
          "text": [
            "image size is torch.Size([1, 48, 48])\n"
          ]
        }
      ]
    },
    {
      "cell_type": "markdown",
      "source": [
        "Для наглядности смотрим на картинку."
      ],
      "metadata": {
        "id": "sY0B2Bbo02Gt"
      }
    },
    {
      "cell_type": "code",
      "source": [
        "img = train_data_tensor[7][0].numpy()\n",
        "\n",
        "plt.figure(figsize=(4, 4))\n",
        "plt.imshow(img.transpose(1, 2, 0), cmap='hot')\n",
        "plt.show()"
      ],
      "metadata": {
        "colab": {
          "base_uri": "https://localhost:8080/",
          "height": 371
        },
        "id": "q-dJsQze0JvF",
        "outputId": "a149db17-9f76-497d-ad48-a398108c4004"
      },
      "execution_count": 5,
      "outputs": [
        {
          "output_type": "display_data",
          "data": {
            "text/plain": [
              "<Figure size 400x400 with 1 Axes>"
            ],
            "image/png": "[encoded data removed]"
          },
          "metadata": {}
        }
      ]
    },
    {
      "cell_type": "code",
      "source": [
        "train_loader = DataLoader(train_data_tensor, batch_size=32, shuffle=True)\n",
        "test_loader = DataLoader(test_data_tensor, batch_size=32, shuffle=False)\n",
        "\n",
        "for i, batch in enumerate(train_loader):\n",
        "  print(i, batch[1])\n",
        "  break"
      ],
      "metadata": {
        "id": "vYWE5EJA08wK",
        "colab": {
          "base_uri": "https://localhost:8080/"
        },
        "outputId": "f1ba9d3d-b9c9-43b1-e1bf-57c0f77d94cf"
      },
      "execution_count": 6,
      "outputs": [
        {
          "output_type": "stream",
          "name": "stdout",
          "text": [
            "0 tensor([3, 9, 4, 6, 0, 7, 5, 3, 1, 4, 9, 2, 6, 1, 7, 4, 9, 8, 9, 9, 5, 5, 7, 2,\n",
            "        9, 0, 2, 4, 1, 3, 0, 3], dtype=torch.uint8)\n"
          ]
        }
      ]
    },
    {
      "cell_type": "code",
      "source": [
        "#input 48x48x1\n",
        "def create_cnn():\n",
        "    model = nn.Sequential(\n",
        "        # Первый сверточный слой: Conv2d, ReLU, AvgPool2d\n",
        "        nn.Conv2d(in_channels=1, out_channels=6, kernel_size=3),  # out: 46x46x6\n",
        "        nn.ReLU(),\n",
        "        nn.AvgPool2d(kernel_size=2),  # out: 24x24x6\n",
        "        nn.ReLU(),\n",
        "\n",
        "        # Второй сверточный слой: Conv2d, ReLU\n",
        "        nn.Conv2d(in_channels=6, out_channels=3, kernel_size=3),  # out: 21x21x3\n",
        "        nn.ReLU(),\n",
        "\n",
        "        # Второй слой пулинга: MaxPool2d\n",
        "        nn.MaxPool2d(kernel_size=2, stride=2),  # out: 10x10x3\n",
        "\n",
        "        # Растягиваем матрицу\n",
        "        nn.Flatten(),\n",
        "\n",
        "        # Подаем преобразованное изображение на вход FCL\n",
        "        nn.Linear(10*10*3, 120),\n",
        "        nn.ReLU(),\n",
        "        nn.Linear(120, 84),\n",
        "        nn.ReLU(),\n",
        "        nn.Linear(84, 10)\n",
        "    )\n",
        "    return model\n"
      ],
      "metadata": {
        "id": "CoTvDlDF4k_D"
      },
      "execution_count": 7,
      "outputs": []
    },
    {
      "cell_type": "code",
      "source": [
        "NUM_EPOCH = 100\n",
        "LEARN_RATE = 0.01"
      ],
      "metadata": {
        "id": "kRM_KxvnWqTG"
      },
      "execution_count": 8,
      "outputs": []
    },
    {
      "cell_type": "code",
      "source": [
        "def train_model(model, dataloader, device=device, num_epoch=NUM_EPOCH, learning_rate=LEARN_RATE):\n",
        "  model = model.to(device)\n",
        "\n",
        "  loss_function = nn.CrossEntropyLoss()\n",
        "  optimizer = optim.SGD(model.parameters(), lr=learning_rate, momentum=0.9)\n",
        "\n",
        "  acc_history = []\n",
        "\n",
        "\n",
        "  for epoch in range(num_epoch):\n",
        "          correct = 0\n",
        "          total = 0\n",
        "\n",
        "          for i, batch in enumerate(dataloader):\n",
        "              images, labels = batch\n",
        "              images = images.to(device)\n",
        "              labels = labels.to(device)\n",
        "\n",
        "              optimizer.zero_grad()\n",
        "\n",
        "              # Считаем лосс\n",
        "              predicted_labels = model(images)\n",
        "              loss = loss_function(predicted_labels, labels)\n",
        "\n",
        "              loss.backward()\n",
        "\n",
        "              # Обновление параметров\n",
        "              optimizer.step()\n",
        "\n",
        "              # Подсчет точности\n",
        "              _, predicted = predicted_labels.max(1) # По столбцам выбираем индекс с максимальной верояностью\n",
        "              total += labels.size(0)\n",
        "              correct += predicted.eq(labels).sum().item()\n",
        "\n",
        "          # Точность по эпохе\n",
        "          acc = correct / total\n",
        "          acc_history.append(acc)\n",
        "\n",
        "  return model, acc_history\n"
      ],
      "metadata": {
        "id": "LHdmPXCcX6UI"
      },
      "execution_count": 9,
      "outputs": []
    },
    {
      "cell_type": "code",
      "source": [
        "model = create_cnn()"
      ],
      "metadata": {
        "id": "OupoEBrzc6Fn"
      },
      "execution_count": 10,
      "outputs": []
    },
    {
      "cell_type": "code",
      "source": [
        "trained_model, acc = train_model(model, train_loader, device)"
      ],
      "metadata": {
        "id": "HpF8MdYtdDVh"
      },
      "execution_count": 11,
      "outputs": []
    },
    {
      "cell_type": "code",
      "source": [
        "def print_history(history, title):\n",
        "    plt.figure(figsize=(7, 4))\n",
        "    plt.plot(history)\n",
        "    plt.title(title)\n",
        "    plt.ylabel('Accuracy')\n",
        "    plt.xlabel('Epoch')\n",
        "    plt.show()"
      ],
      "metadata": {
        "id": "3PVrCNTbfOB7"
      },
      "execution_count": 12,
      "outputs": []
    },
    {
      "cell_type": "code",
      "source": [
        "print_history(acc, 'nn model accuracy')"
      ],
      "metadata": {
        "colab": {
          "base_uri": "https://localhost:8080/",
          "height": 410
        },
        "id": "dbwhlB5EfDho",
        "outputId": "7dce6c34-dc58-46e9-cd5e-bca9fd4dba44"
      },
      "execution_count": 13,
      "outputs": [
        {
          "output_type": "display_data",
          "data": {
            "text/plain": [
              "<Figure size 700x400 with 1 Axes>"
            ],
            "image/png": "[encoded data removed]"
          },
          "metadata": {}
        }
      ]
    },
    {
      "cell_type": "code",
      "source": [
        "def evaluate_model(model, dataloader, device=device):\n",
        "    model = model.to(device)\n",
        "    model.eval()  # Устанавливаем модель в режим оценки\n",
        "\n",
        "    correct = 0\n",
        "    total = 0\n",
        "\n",
        "    with torch.no_grad():\n",
        "        for images, labels in dataloader:\n",
        "            images = images.to(device)\n",
        "            labels = labels.to(device)\n",
        "\n",
        "            predicted_labels = model(images)\n",
        "\n",
        "            _, predicted = predicted_labels.max(1)\n",
        "\n",
        "            # Подсчитываем количество правильных предсказаний\n",
        "            total += labels.size(0)\n",
        "            correct += predicted.eq(labels).sum().item()\n",
        "\n",
        "    accuracy = correct / total\n",
        "\n",
        "    return accuracy\n"
      ],
      "metadata": {
        "id": "dm2jksTRhBvi"
      },
      "execution_count": 14,
      "outputs": []
    },
    {
      "cell_type": "markdown",
      "source": [
        "Подсчитаем точность модели на тестовых данных."
      ],
      "metadata": {
        "id": "1Cyede1w0IUP"
      }
    },
    {
      "cell_type": "code",
      "source": [
        "acc_test = evaluate_model(trained_model, test_loader)\n",
        "\n",
        "print(f\"accuracy bsed on test data: {int(acc_test*100)}%\")"
      ],
      "metadata": {
        "colab": {
          "base_uri": "https://localhost:8080/"
        },
        "id": "cN9iWKo_murH",
        "outputId": "11d8adf1-2030-4eb8-c5db-af02e1c60d1a"
      },
      "execution_count": 16,
      "outputs": [
        {
          "output_type": "stream",
          "name": "stdout",
          "text": [
            "accuracy bsed on test data: 100%\n"
          ]
        }
      ]
    }
  ]
}